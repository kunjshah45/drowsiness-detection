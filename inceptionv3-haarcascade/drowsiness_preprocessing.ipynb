{
 "cells": [
  {
   "cell_type": "code",
   "execution_count": 3,
   "id": "4e334baa-96db-423f-9558-451fbd56b57a",
   "metadata": {
    "collapsed": true,
    "jupyter": {
     "outputs_hidden": true
    },
    "tags": []
   },
   "outputs": [
    {
     "name": "stdout",
     "output_type": "stream",
     "text": [
      "Collecting package metadata (current_repodata.json): done\n",
      "Solving environment: done\n",
      "\n",
      "## Package Plan ##\n",
      "\n",
      "  environment location: /Users/kunjshah/opt/anaconda3/envs/drowsiness-detection\n",
      "\n",
      "\n",
      "\n",
      "Preparing transaction: done\n",
      "Verifying transaction: done\n",
      "Executing transaction: done\n",
      "#\n",
      "# To activate this environment, use\n",
      "#\n",
      "#     $ conda activate drowsiness-detection\n",
      "#\n",
      "# To deactivate an active environment, use\n",
      "#\n",
      "#     $ conda deactivate\n",
      "\n",
      "\n",
      "Note: you may need to restart the kernel to use updated packages.\n"
     ]
    }
   ],
   "source": [
    "conda create --name drowsiness-detection -y"
   ]
  },
  {
   "cell_type": "code",
   "execution_count": 4,
   "id": "ce9137e8-1ba9-4551-b8e9-089d78c8bbcd",
   "metadata": {
    "collapsed": true,
    "jupyter": {
     "outputs_hidden": true
    },
    "tags": []
   },
   "outputs": [
    {
     "name": "stdout",
     "output_type": "stream",
     "text": [
      "\n",
      "CommandNotFoundError: Your shell has not been properly configured to use 'conda activate'.\n",
      "To initialize your shell, run\n",
      "\n",
      "    $ conda init <SHELL_NAME>\n",
      "\n",
      "Currently supported shells are:\n",
      "  - bash\n",
      "  - fish\n",
      "  - tcsh\n",
      "  - xonsh\n",
      "  - zsh\n",
      "  - powershell\n",
      "\n",
      "See 'conda init --help' for more information and options.\n",
      "\n",
      "IMPORTANT: You may need to close and restart your shell after running 'conda init'.\n",
      "\n",
      "\n",
      "\n",
      "Note: you may need to restart the kernel to use updated packages.\n"
     ]
    }
   ],
   "source": [
    "conda activate drowsiness-detection"
   ]
  },
  {
   "cell_type": "code",
   "execution_count": 5,
   "id": "7eb52d83-c4be-4060-95c0-e014be0e11bd",
   "metadata": {},
   "outputs": [],
   "source": [
    "#Dataset\n",
    "# http://mrl.cs.vsb.cz/eyedataset\n",
    "# In the dataset, we annotated the following properties (the properties are indicated in the following order):\n",
    "# subject ID; in the dataset, we collected the data of 37 different persons (33 men and 4 women)\n",
    "# image ID; the dataset consists of 84,898 images\n",
    "# gender [0 - man, 1 - woman]; the dataset contains the information about gender for each image (man, woman)\n",
    "# glasses [0 - no, 1 - yes]; the information if the eye image contains glasses is also provided for each image (with and without the glasses)\n",
    "# eye state [0 - closed, 1 - open]; this property contains the information about two eye states (open, close)\n",
    "# reflections [0 - none, 1 - small, 2 - big]; we annotated three reflection states based on the size of reflections (none, small, and big reflections)\n",
    "# lighting conditions [0 - bad, 1 - good]; each image has two states (bad, good) based on the amount of light during capturing the videos\n",
    "# sensor ID [01 - RealSense, 02 - IDS, 03 - Aptina]; at this moment, the dataset contains the images captured by three different sensors (Intel RealSense RS 300 sensor with 640 x 480 resolution, IDS Imaging sensor with 1280 x 1024 resolution, and Aptina sensor with 752 x 480 resolution)"
   ]
  },
  {
   "cell_type": "code",
   "execution_count": 2,
   "id": "75db3149-300e-4750-98ac-8f73581539c8",
   "metadata": {},
   "outputs": [
    {
     "name": "stdout",
     "output_type": "stream",
     "text": [
      "Collecting tqdm\n",
      "  Downloading tqdm-4.65.0-py3-none-any.whl (77 kB)\n",
      "\u001b[2K     \u001b[90m━━━━━━━━━━━━━━━━━━━━━━━━━━━━━━━━━━━━━━━\u001b[0m \u001b[32m77.1/77.1 kB\u001b[0m \u001b[31m828.1 kB/s\u001b[0m eta \u001b[36m0:00:00\u001b[0ma \u001b[36m0:00:01\u001b[0m\n",
      "\u001b[?25hInstalling collected packages: tqdm\n",
      "Successfully installed tqdm-4.65.0\n"
     ]
    }
   ],
   "source": [
    "!pip3 install tqdm"
   ]
  },
  {
   "cell_type": "code",
   "execution_count": 2,
   "id": "80d82a30-6361-4477-ad82-83cf06a8a893",
   "metadata": {},
   "outputs": [],
   "source": [
    "import os\n",
    "import shutil\n",
    "import glob\n",
    "from tqdm import tqdm\n",
    "import numpy as np\n",
    "import cv2"
   ]
  },
  {
   "cell_type": "code",
   "execution_count": null,
   "id": "3df1d102-d088-450d-aa99-9b2d13038a4a",
   "metadata": {},
   "outputs": [],
   "source": [
    "Raw_DIR= '../mrlEyes_2018_01'\n",
    "for dirpath, dirname, filenames in os.walk(Raw_DIR):\n",
    "    for i in tqdm([f for f in filenames if f.endswith('.png')]):\n",
    "        image = cv2.imread(dirpath+'/'+i)\n",
    "        if i.split('_')[4]=='0':\n",
    "            shutil.copy(src=dirpath+'/'+i, dst='prepared_data/close_eyes')\n",
    "        \n",
    "        elif i.split('_')[4]=='1':\n",
    "            shutil.copy(src=dirpath+'/'+i, dst='prepared_data/open_eyes')"
   ]
  },
  {
   "cell_type": "code",
   "execution_count": 4,
   "id": "c2504f75-2597-47e5-b06d-bcaa9d6dac03",
   "metadata": {},
   "outputs": [
    {
     "name": "stdout",
     "output_type": "stream",
     "text": [
      "37935\n",
      "37935\n"
     ]
    }
   ],
   "source": [
    "parent_folder = \"../prepared_data/train/close_eyes\"\n",
    "files = os.listdir('../prepared_data/train/close_eyes/')\n",
    "print(len(files))\n",
    "for each in range(len(files[:3600])):\n",
    "    old_path = f\"{parent_folder}/{files[each]}\"\n",
    "    new_path = f\"../prepared_data/test/close_eyes/{files[each]}\"\n",
    "    shutil.move(old_path, new_path)\n",
    "files = os.listdir('../prepared_data/train/close_eyes/')\n",
    "print(len(files))"
   ]
  },
  {
   "cell_type": "code",
   "execution_count": 7,
   "id": "b3726153-20ac-4746-923d-12b8ed82c698",
   "metadata": {},
   "outputs": [
    {
     "name": "stdout",
     "output_type": "stream",
     "text": [
      "42561\n",
      "38961\n"
     ]
    }
   ],
   "source": [
    "parent_folder = \"../prepared_data/train/open_eyes\"\n",
    "files = os.listdir('../prepared_data/train/open_eyes/')\n",
    "print(len(files))\n",
    "for each in range(len(files[:3600])):\n",
    "    old_path = f\"{parent_folder}/{files[each]}\"\n",
    "    new_path = f\"../prepared_data/test/open_eyes/{files[each]}\"\n",
    "    shutil.move(old_path, new_path)\n",
    "files = os.listdir('../prepared_data/train/open_eyes/')\n",
    "print(len(files))"
   ]
  },
  {
   "cell_type": "code",
   "execution_count": null,
   "id": "9e736891-79f9-4b94-85c8-71c1d81431d8",
   "metadata": {},
   "outputs": [],
   "source": []
  }
 ],
 "metadata": {
  "kernelspec": {
   "display_name": "Python 3 (ipykernel)",
   "language": "python",
   "name": "python3"
  },
  "language_info": {
   "codemirror_mode": {
    "name": "ipython",
    "version": 3
   },
   "file_extension": ".py",
   "mimetype": "text/x-python",
   "name": "python",
   "nbconvert_exporter": "python",
   "pygments_lexer": "ipython3",
   "version": "3.10.10"
  }
 },
 "nbformat": 4,
 "nbformat_minor": 5
}
