{
 "cells": [
  {
   "cell_type": "code",
   "execution_count": 2,
   "id": "f81a2ba5-b2df-492a-ba9a-8afead8179c0",
   "metadata": {},
   "outputs": [],
   "source": [
    "import os\n",
    "os.environ['TF_CPP_MIN_LOG_LEVEL'] = '2'\n",
    "import tensorflow as tf\n",
    "from tensorflow.keras.applications import InceptionV3\n",
    "from tensorflow.keras.models import Model\n",
    "from tensorflow.keras.layers import Dropout,Input,Flatten,Dense,MaxPooling2D\n",
    "from tensorflow.keras.preprocessing.image import ImageDataGenerator  # Data Augumentation"
   ]
  },
  {
   "cell_type": "code",
   "execution_count": 6,
   "id": "8cfae08a-c9e1-42a5-8f76-d71a98a21ca9",
   "metadata": {},
   "outputs": [
    {
     "name": "stdout",
     "output_type": "stream",
     "text": [
      "WARNING:tensorflow:From /var/folders/vb/1dhw29_j3wzgcxsnv4fxwkkw0000gn/T/ipykernel_10255/337460670.py:1: is_gpu_available (from tensorflow.python.framework.test_util) is deprecated and will be removed in a future version.\n",
      "Instructions for updating:\n",
      "Use `tf.config.list_physical_devices('GPU')` instead.\n"
     ]
    },
    {
     "data": {
      "text/plain": [
       "False"
      ]
     },
     "execution_count": 6,
     "metadata": {},
     "output_type": "execute_result"
    }
   ],
   "source": [
    "tf.test.is_gpu_available()"
   ]
  },
  {
   "cell_type": "code",
   "execution_count": 7,
   "id": "4c7c6f1a-7d6f-48f2-a56a-3dd521a87b62",
   "metadata": {},
   "outputs": [],
   "source": [
    "batchsize=8\n",
    "train_folder = \"../prepared_data/train\"\n",
    "test_folder = \"../prepared_data/test\"\n",
    "model_folder = \"./models/\""
   ]
  },
  {
   "cell_type": "code",
   "execution_count": 8,
   "id": "6d6fef07-8825-43ad-b769-39516bdb1796",
   "metadata": {},
   "outputs": [
    {
     "name": "stdout",
     "output_type": "stream",
     "text": [
      "Found 67276 images belonging to 2 classes.\n",
      "Found 16818 images belonging to 2 classes.\n"
     ]
    }
   ],
   "source": [
    "train_datagen= ImageDataGenerator(rescale=1./255, rotation_range=0.2,shear_range=0.2,\n",
    "    zoom_range=0.2,width_shift_range=0.2,\n",
    "    height_shift_range=0.2, validation_split=0.2)\n",
    "\n",
    "train_data= train_datagen.flow_from_directory(train_folder,\n",
    "                                target_size=(80,80),batch_size=batchsize,class_mode='categorical',subset='training' )\n",
    "\n",
    "validation_data= train_datagen.flow_from_directory(train_folder,\n",
    "                                target_size=(80,80),batch_size=batchsize,class_mode='categorical', subset='validation')"
   ]
  },
  {
   "cell_type": "code",
   "execution_count": 9,
   "id": "5c80edce-0df8-4b30-a2cc-e35f5daa704a",
   "metadata": {},
   "outputs": [
    {
     "name": "stdout",
     "output_type": "stream",
     "text": [
      "Found 805 images belonging to 2 classes.\n"
     ]
    }
   ],
   "source": [
    "test_datagen = ImageDataGenerator(rescale=1./255)\n",
    "\n",
    "test_data = test_datagen.flow_from_directory(test_folder,\n",
    "                                target_size=(80,80),batch_size=batchsize,class_mode='categorical')"
   ]
  },
  {
   "cell_type": "code",
   "execution_count": null,
   "id": "705278dc-cfa7-4035-95a2-bdc2993fb4e0",
   "metadata": {},
   "outputs": [
    {
     "name": "stdout",
     "output_type": "stream",
     "text": [
      "Downloading data from https://storage.googleapis.com/tensorflow/keras-applications/xception/xception_weights_tf_dim_ordering_tf_kernels_notop.h5\n",
      "83683744/83683744 [==============================] - 29s 0us/step\n"
     ]
    }
   ],
   "source": [
    "basemodel = InceptionV3(include_top=False, weights='imagenet', input_tensor=Input(shape=(80,80,3)))\n",
    "hmodel = basemodel.output\n",
    "hmodel = Flatten()(hmodel)\n",
    "hmodel = Dense(64, activation='relu')(hmodel)\n",
    "hmodel = Dropout(0.5)(hmodel)\n",
    "hmodel = Dense(2,activation= 'softmax')(hmodel)\n",
    "\n",
    "model = Model(inputs=basemodel.input, outputs= hmodel)\n",
    "for layer in basemodel.layers:\n",
    "    layer.trainable = False"
   ]
  },
  {
   "cell_type": "code",
   "execution_count": null,
   "id": "a3d1fb3c-77cc-4947-a3f0-8cfa67891f28",
   "metadata": {},
   "outputs": [],
   "source": [
    "model.summary()"
   ]
  },
  {
   "cell_type": "code",
   "execution_count": null,
   "id": "31d15fd6-c6a7-4319-bd94-5f867c332619",
   "metadata": {},
   "outputs": [],
   "source": [
    "from tensorflow.keras.callbacks import ModelCheckpoint,EarlyStopping, ReduceLROnPlateau"
   ]
  },
  {
   "cell_type": "code",
   "execution_count": null,
   "id": "50b3ee0b-0124-430f-ae3d-ffaf073b56f4",
   "metadata": {},
   "outputs": [],
   "source": [
    "checkpoint = ModelCheckpoint(f'{model_folder}inceptionv3_model.h5',\n",
    "                            monitor='val_loss',save_best_only=True,verbose=3)\n",
    "\n",
    "earlystop = EarlyStopping(monitor = 'val_loss', patience=7, verbose= 3, restore_best_weights=True)\n",
    "\n",
    "learning_rate = ReduceLROnPlateau(monitor= 'val_loss', patience=3, verbose= 3, )\n",
    "\n",
    "callbacks=[checkpoint,earlystop,learning_rate]"
   ]
  },
  {
   "cell_type": "code",
   "execution_count": 10,
   "id": "5e609260-e540-4d85-82d3-b643f207c147",
   "metadata": {},
   "outputs": [
    {
     "name": "stdout",
     "output_type": "stream",
     "text": [
      "Epoch 1/5\n",
      "8409/8409 [==============================] - ETA: 0s - loss: 0.2054 - accuracy: 0.9196\n",
      "Epoch 1: val_loss improved from inf to 0.22978, saving model to ./models/inceptionv3_model.h5\n",
      "8409/8409 [==============================] - 869s 103ms/step - loss: 0.2054 - accuracy: 0.9196 - val_loss: 0.2298 - val_accuracy: 0.9119 - lr: 0.0010\n",
      "Epoch 2/5\n",
      "8409/8409 [==============================] - ETA: 0s - loss: 0.1779 - accuracy: 0.9310\n",
      "Epoch 2: val_loss did not improve from 0.22978\n",
      "8409/8409 [==============================] - 975s 116ms/step - loss: 0.1779 - accuracy: 0.9310 - val_loss: 0.2450 - val_accuracy: 0.8966 - lr: 0.0010\n",
      "Epoch 3/5\n",
      "8409/8409 [==============================] - ETA: 0s - loss: 0.1678 - accuracy: 0.9357\n",
      "Epoch 3: val_loss did not improve from 0.22978\n",
      "8409/8409 [==============================] - 1011s 120ms/step - loss: 0.1678 - accuracy: 0.9357 - val_loss: 0.2814 - val_accuracy: 0.9026 - lr: 0.0010\n",
      "Epoch 4/5\n",
      "8409/8409 [==============================] - ETA: 0s - loss: 0.1615 - accuracy: 0.9372\n",
      "Epoch 4: val_loss did not improve from 0.22978\n",
      "\n",
      "Epoch 4: ReduceLROnPlateau reducing learning rate to 0.00010000000474974513.\n",
      "8409/8409 [==============================] - 820s 98ms/step - loss: 0.1615 - accuracy: 0.9372 - val_loss: 0.2631 - val_accuracy: 0.8952 - lr: 0.0010\n",
      "Epoch 5/5\n",
      "8409/8409 [==============================] - ETA: 0s - loss: 0.1474 - accuracy: 0.9433\n",
      "Epoch 5: val_loss did not improve from 0.22978\n",
      "8409/8409 [==============================] - 832s 99ms/step - loss: 0.1474 - accuracy: 0.9433 - val_loss: 0.2392 - val_accuracy: 0.9091 - lr: 1.0000e-04\n"
     ]
    },
    {
     "data": {
      "text/plain": [
       "<keras.callbacks.History at 0x7fb63804b040>"
      ]
     },
     "execution_count": 10,
     "metadata": {},
     "output_type": "execute_result"
    }
   ],
   "source": [
    "model.compile(optimizer='Adam', loss='categorical_crossentropy',metrics=['accuracy'])\n",
    "\n",
    "model.fit(train_data,steps_per_epoch=train_data.samples//batchsize,\n",
    "                   validation_data=validation_data,\n",
    "                   validation_steps=validation_data.samples//batchsize,\n",
    "                   callbacks=callbacks,\n",
    "                    epochs=5)"
   ]
  },
  {
   "cell_type": "code",
   "execution_count": 13,
   "id": "06b04998-fca1-4431-8d90-af34afa6b922",
   "metadata": {},
   "outputs": [
    {
     "name": "stdout",
     "output_type": "stream",
     "text": [
      "8410/8410 [==============================] - 650s 77ms/step - loss: 0.1310 - accuracy: 0.9500\n",
      "0.13096186518669128\n",
      "0.9499673247337341\n"
     ]
    }
   ],
   "source": [
    "acc_tr, loss_tr = model.evaluate(train_data)\n",
    "print(acc_tr)\n",
    "print(loss_tr)"
   ]
  },
  {
   "cell_type": "code",
   "execution_count": 14,
   "id": "0cd09db2-46da-4931-8dde-14413eb2d8c1",
   "metadata": {},
   "outputs": [
    {
     "name": "stdout",
     "output_type": "stream",
     "text": [
      "2103/2103 [==============================] - 176s 84ms/step - loss: 0.2441 - accuracy: 0.9067\n",
      "0.24413006007671356\n",
      "0.9067071080207825\n"
     ]
    }
   ],
   "source": [
    "acc_vr, loss_vr = model.evaluate(validation_data)\n",
    "print(acc_vr)\n",
    "print(loss_vr)"
   ]
  },
  {
   "cell_type": "code",
   "execution_count": 15,
   "id": "c8641c3f-444e-490e-aee1-05cedb20d5e4",
   "metadata": {},
   "outputs": [
    {
     "name": "stdout",
     "output_type": "stream",
     "text": [
      "101/101 [==============================] - 8s 74ms/step - loss: 0.1734 - accuracy: 0.9280\n",
      "0.13096186518669128\n",
      "0.9499673247337341\n"
     ]
    }
   ],
   "source": [
    "acc_test, loss_test = model.evaluate(test_data)\n",
    "print(acc_tr)\n",
    "print(loss_tr)"
   ]
  },
  {
   "cell_type": "code",
   "execution_count": 2,
   "id": "cf0ff5e9-cbea-4fb4-bb69-ee6fd20d7f29",
   "metadata": {},
   "outputs": [
    {
     "name": "stdout",
     "output_type": "stream",
     "text": [
      "Collecting matplotlib\n",
      "  Downloading matplotlib-3.7.1-cp310-cp310-macosx_10_12_x86_64.whl (7.4 MB)\n",
      "\u001b[2K     \u001b[90m━━━━━━━━━━━━━━━━━━━━━━━━━━━━━━━━━━━━━━━━\u001b[0m \u001b[32m7.4/7.4 MB\u001b[0m \u001b[31m155.8 kB/s\u001b[0m eta \u001b[36m0:00:00\u001b[0m00:01\u001b[0m00:02\u001b[0m\n",
      "\u001b[?25hRequirement already satisfied: pillow>=6.2.0 in /Users/kunjshah/opt/anaconda3/envs/drowsiness-detection/lib/python3.10/site-packages (from matplotlib) (9.4.0)\n",
      "Collecting fonttools>=4.22.0\n",
      "  Downloading fonttools-4.39.3-py3-none-any.whl (1.0 MB)\n",
      "\u001b[2K     \u001b[90m━━━━━━━━━━━━━━━━━━━━━━━━━━━━━━━━━━━━━━━━\u001b[0m \u001b[32m1.0/1.0 MB\u001b[0m \u001b[31m213.8 kB/s\u001b[0m eta \u001b[36m0:00:00\u001b[0m00:01\u001b[0m00:01\u001b[0m\n",
      "\u001b[?25hRequirement already satisfied: python-dateutil>=2.7 in /Users/kunjshah/opt/anaconda3/envs/drowsiness-detection/lib/python3.10/site-packages (from matplotlib) (2.8.2)\n",
      "Collecting kiwisolver>=1.0.1\n",
      "  Downloading kiwisolver-1.4.4-cp310-cp310-macosx_10_9_x86_64.whl (65 kB)\n",
      "\u001b[2K     \u001b[90m━━━━━━━━━━━━━━━━━━━━━━━━━━━━━━━━━━━━━━━\u001b[0m \u001b[32m65.5/65.5 kB\u001b[0m \u001b[31m202.4 kB/s\u001b[0m eta \u001b[36m0:00:00\u001b[0ma \u001b[36m0:00:01\u001b[0m\n",
      "\u001b[?25hRequirement already satisfied: packaging>=20.0 in /Users/kunjshah/opt/anaconda3/envs/drowsiness-detection/lib/python3.10/site-packages (from matplotlib) (23.0)\n",
      "Requirement already satisfied: numpy>=1.20 in /Users/kunjshah/opt/anaconda3/envs/drowsiness-detection/lib/python3.10/site-packages (from matplotlib) (1.23.5)\n",
      "Collecting cycler>=0.10\n",
      "  Using cached cycler-0.11.0-py3-none-any.whl (6.4 kB)\n",
      "Collecting pyparsing>=2.3.1\n",
      "  Downloading pyparsing-3.0.9-py3-none-any.whl (98 kB)\n",
      "\u001b[2K     \u001b[90m━━━━━━━━━━━━━━━━━━━━━━━━━━━━━━━━━━━━━━━\u001b[0m \u001b[32m98.3/98.3 kB\u001b[0m \u001b[31m132.3 kB/s\u001b[0m eta \u001b[36m0:00:00\u001b[0ma \u001b[36m0:00:01\u001b[0m\n",
      "\u001b[?25hCollecting contourpy>=1.0.1\n",
      "  Downloading contourpy-1.0.7-cp310-cp310-macosx_10_9_x86_64.whl (244 kB)\n",
      "\u001b[2K     \u001b[90m━━━━━━━━━━━━━━━━━━━━━━━━━━━━━━━━━━━━━\u001b[0m \u001b[32m244.2/244.2 kB\u001b[0m \u001b[31m105.1 kB/s\u001b[0m eta \u001b[36m0:00:00\u001b[0ma \u001b[36m0:00:01\u001b[0m\n",
      "\u001b[?25hRequirement already satisfied: six>=1.5 in /Users/kunjshah/opt/anaconda3/envs/drowsiness-detection/lib/python3.10/site-packages (from python-dateutil>=2.7->matplotlib) (1.16.0)\n",
      "Installing collected packages: pyparsing, kiwisolver, fonttools, cycler, contourpy, matplotlib\n",
      "Successfully installed contourpy-1.0.7 cycler-0.11.0 fonttools-4.39.3 kiwisolver-1.4.4 matplotlib-3.7.1 pyparsing-3.0.9\n"
     ]
    }
   ],
   "source": [
    "!pip3 install matplotlib"
   ]
  },
  {
   "cell_type": "code",
   "execution_count": 4,
   "id": "bc43f9c3-426c-4d30-bec9-4204eb2549df",
   "metadata": {},
   "outputs": [],
   "source": [
    "import matplotlib.pyplot as plt"
   ]
  },
  {
   "cell_type": "code",
   "execution_count": 5,
   "id": "5f8a1aca-052f-42c4-900d-18034dfdc187",
   "metadata": {},
   "outputs": [
    {
     "data": {
      "image/png": "[encoded data removed]",
      "text/plain": [
       "<Figure size 640x480 with 1 Axes>"
      ]
     },
     "metadata": {},
     "output_type": "display_data"
    },
    {
     "data": {
      "image/png": "[encoded data removed]",
      "text/plain": [
       "<Figure size 640x480 with 1 Axes>"
      ]
     },
     "metadata": {},
     "output_type": "display_data"
    }
   ],
   "source": [
    "train_open_folder = \"../prepared_data/train/open_eyes\"\n",
    "train_close_folder = \"../prepared_data/train/close_eyes\"\n",
    "test_open_folder = \"../prepared_data/test/open_eyes\"\n",
    "test_open_folder = \"../prepared_data/test/close_eyes\"\n",
    "tro = len(os.listdir(train_open_folder))\n",
    "trc = len(os.listdir(train_close_folder))\n",
    "teo = len(os.listdir(test_open_folder))\n",
    "tec = len(os.listdir(test_open_folder))\n",
    "\n",
    "data = [tro+trc, teo+tec]\n",
    "plt.bar([\"Train\", \"Test\"], data)\n",
    "plt.xlabel(\"Data\")\n",
    "plt.ylabel(\"No. of images\")\n",
    "plt.title(\"Train/Test data length\")\n",
    "plt.show()\n",
    "\n",
    "data = [tro+teo, trc+tec]\n",
    "plt.bar([\"Open Eyes\"], tro+teo, color=\"b\")\n",
    "plt.bar([\"Close Eyes\"], trc+tec, color=\"orange\")\n",
    "plt.xlabel(\"Data\")\n",
    "plt.ylabel(\"No. of images\")\n",
    "plt.title(\"Open/Close data length\")\n",
    "plt.show()"
   ]
  }
 ],
 "metadata": {
  "kernelspec": {
   "display_name": "Python 3 (ipykernel)",
   "language": "python",
   "name": "python3"
  },
  "language_info": {
   "codemirror_mode": {
    "name": "ipython",
    "version": 3
   },
   "file_extension": ".py",
   "mimetype": "text/x-python",
   "name": "python",
   "nbconvert_exporter": "python",
   "pygments_lexer": "ipython3",
   "version": "3.10.10"
  }
 },
 "nbformat": 4,
 "nbformat_minor": 5
}
