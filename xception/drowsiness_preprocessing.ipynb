{
 "cells": [
  {
   "cell_type": "code",
   "execution_count": 3,
   "id": "4e334baa-96db-423f-9558-451fbd56b57a",
   "metadata": {
    "collapsed": true,
    "jupyter": {
     "outputs_hidden": true
    },
    "tags": []
   },
   "outputs": [
    {
     "name": "stdout",
     "output_type": "stream",
     "text": [
      "Collecting package metadata (current_repodata.json): done\n",
      "Solving environment: done\n",
      "\n",
      "## Package Plan ##\n",
      "\n",
      "  environment location: /Users/kunjshah/opt/anaconda3/envs/drowsiness-detection\n",
      "\n",
      "\n",
      "\n",
      "Preparing transaction: done\n",
      "Verifying transaction: done\n",
      "Executing transaction: done\n",
      "#\n",
      "# To activate this environment, use\n",
      "#\n",
      "#     $ conda activate drowsiness-detection\n",
      "#\n",
      "# To deactivate an active environment, use\n",
      "#\n",
      "#     $ conda deactivate\n",
      "\n",
      "\n",
      "Note: you may need to restart the kernel to use updated packages.\n"
     ]
    }
   ],
   "source": [
    "conda create --name drowsiness-detection -y"
   ]
  },
  {
   "cell_type": "code",
   "execution_count": 4,
   "id": "ce9137e8-1ba9-4551-b8e9-089d78c8bbcd",
   "metadata": {
    "collapsed": true,
    "jupyter": {
     "outputs_hidden": true
    },
    "tags": []
   },
   "outputs": [
    {
     "name": "stdout",
     "output_type": "stream",
     "text": [
      "\n",
      "CommandNotFoundError: Your shell has not been properly configured to use 'conda activate'.\n",
      "To initialize your shell, run\n",
      "\n",
      "    $ conda init <SHELL_NAME>\n",
      "\n",
      "Currently supported shells are:\n",
      "  - bash\n",
      "  - fish\n",
      "  - tcsh\n",
      "  - xonsh\n",
      "  - zsh\n",
      "  - powershell\n",
      "\n",
      "See 'conda init --help' for more information and options.\n",
      "\n",
      "IMPORTANT: You may need to close and restart your shell after running 'conda init'.\n",
      "\n",
      "\n",
      "\n",
      "Note: you may need to restart the kernel to use updated packages.\n"
     ]
    }
   ],
   "source": [
    "conda activate drowsiness-detection"
   ]
  },
  {
   "cell_type": "code",
   "execution_count": 5,
   "id": "7eb52d83-c4be-4060-95c0-e014be0e11bd",
   "metadata": {},
   "outputs": [],
   "source": [
    "#Dataset\n",
    "# http://mrl.cs.vsb.cz/eyedataset\n",
    "# In the dataset, we annotated the following properties (the properties are indicated in the following order):\n",
    "# subject ID; in the dataset, we collected the data of 37 different persons (33 men and 4 women)\n",
    "# image ID; the dataset consists of 84,898 images\n",
    "# gender [0 - man, 1 - woman]; the dataset contains the information about gender for each image (man, woman)\n",
    "# glasses [0 - no, 1 - yes]; the information if the eye image contains glasses is also provided for each image (with and without the glasses)\n",
    "# eye state [0 - closed, 1 - open]; this property contains the information about two eye states (open, close)\n",
    "# reflections [0 - none, 1 - small, 2 - big]; we annotated three reflection states based on the size of reflections (none, small, and big reflections)\n",
    "# lighting conditions [0 - bad, 1 - good]; each image has two states (bad, good) based on the amount of light during capturing the videos\n",
    "# sensor ID [01 - RealSense, 02 - IDS, 03 - Aptina]; at this moment, the dataset contains the images captured by three different sensors (Intel RealSense RS 300 sensor with 640 x 480 resolution, IDS Imaging sensor with 1280 x 1024 resolution, and Aptina sensor with 752 x 480 resolution)"
   ]
  },
  {
   "cell_type": "code",
   "execution_count": 6,
   "id": "80d82a30-6361-4477-ad82-83cf06a8a893",
   "metadata": {},
   "outputs": [],
   "source": [
    "import os\n",
    "import shutil\n",
    "import glob\n",
    "from tqdm import tqdm"
   ]
  },
  {
   "cell_type": "code",
   "execution_count": 11,
   "id": "3df1d102-d088-450d-aa99-9b2d13038a4a",
   "metadata": {},
   "outputs": [
    {
     "name": "stderr",
     "output_type": "stream",
     "text": [
      "0it [00:00, ?it/s]\n",
      "100%|█████████████████████████████████████| 1384/1384 [00:00<00:00, 2823.27it/s]\n",
      "100%|███████████████████████████████████| 10257/10257 [00:04<00:00, 2414.76it/s]\n",
      "100%|███████████████████████████████████████| 832/832 [00:00<00:00, 2050.23it/s]\n",
      "100%|█████████████████████████████████████| 3242/3242 [00:01<00:00, 1782.06it/s]\n",
      "100%|█████████████████████████████████████| 1012/1012 [00:00<00:00, 1822.82it/s]\n",
      "100%|███████████████████████████████████████| 624/624 [00:00<00:00, 1359.64it/s]\n",
      "100%|█████████████████████████████████████| 6193/6193 [00:03<00:00, 1772.42it/s]\n",
      "100%|███████████████████████████████████████| 387/387 [00:00<00:00, 2219.96it/s]\n",
      "100%|█████████████████████████████████████| 1738/1738 [00:01<00:00, 1512.46it/s]\n",
      "0it [00:00, ?it/s]\n",
      "0it [00:00, ?it/s]\n",
      "100%|█████████████████████████████████████| 3605/3605 [00:01<00:00, 1870.42it/s]\n",
      "100%|█████████████████████████████████████| 8884/8884 [00:03<00:00, 2326.11it/s]\n",
      "100%|███████████████████████████████████████| 382/382 [00:00<00:00, 2470.88it/s]\n",
      "100%|█████████████████████████████████████| 1502/1502 [00:00<00:00, 2424.40it/s]\n",
      "100%|███████████████████████████████████████| 752/752 [00:00<00:00, 2602.81it/s]\n",
      "100%|███████████████████████████████████████| 522/522 [00:00<00:00, 2903.21it/s]\n",
      "100%|█████████████████████████████████████| 1132/1132 [00:00<00:00, 2359.26it/s]\n",
      "100%|█████████████████████████████████████| 8728/8728 [00:03<00:00, 2296.50it/s]\n",
      "100%|███████████████████████████████████████| 739/739 [00:00<00:00, 2360.67it/s]\n",
      "100%|███████████████████████████████████████| 681/681 [00:00<00:00, 2424.45it/s]\n",
      "100%|███████████████████████████████████████| 736/736 [00:00<00:00, 2557.71it/s]\n",
      "100%|█████████████████████████████████████| 1114/1114 [00:00<00:00, 2387.76it/s]\n",
      "100%|███████████████████████████████████████| 679/679 [00:00<00:00, 2364.82it/s]\n",
      "100%|█████████████████████████████████████| 1069/1069 [00:00<00:00, 2283.07it/s]\n",
      "100%|█████████████████████████████████████| 6162/6162 [00:02<00:00, 2090.81it/s]\n",
      "100%|███████████████████████████████████████| 642/642 [00:00<00:00, 2058.84it/s]\n",
      "100%|███████████████████████████████████████| 736/736 [00:00<00:00, 2643.06it/s]\n",
      "100%|█████████████████████████████████████| 1648/1648 [00:00<00:00, 2218.34it/s]\n",
      "100%|███████████████████████████████████████| 399/399 [00:00<00:00, 2819.19it/s]\n",
      "100%|█████████████████████████████████████| 6175/6175 [00:02<00:00, 2337.94it/s]\n",
      "100%|█████████████████████████████████████| 1246/1246 [00:00<00:00, 2391.34it/s]\n",
      "100%|███████████████████████████████████████| 987/987 [00:00<00:00, 2354.28it/s]\n",
      "100%|███████████████████████████████████████| 704/704 [00:00<00:00, 2518.34it/s]\n",
      "100%|█████████████████████████████████████| 4410/4410 [00:01<00:00, 2267.01it/s]\n",
      "100%|███████████████████████████████████████| 665/665 [00:00<00:00, 2343.80it/s]\n",
      "100%|█████████████████████████████████████| 1648/1648 [00:00<00:00, 2391.34it/s]\n",
      "100%|█████████████████████████████████████| 1393/1393 [00:00<00:00, 2316.35it/s]\n",
      "100%|█████████████████████████████████████| 1889/1889 [00:00<00:00, 2216.03it/s]\n"
     ]
    }
   ],
   "source": [
    "Raw_DIR= 'mrlEyes_2018_01'\n",
    "for dirpath, dirname, filenames in os.walk(Raw_DIR):\n",
    "    for i in tqdm([f for f in filenames if f.endswith('.png')]):\n",
    "        if i.split('_')[4]=='0':\n",
    "            shutil.copy(src=dirpath+'/'+i, dst='prepared_data/close_eyes')\n",
    "        \n",
    "        elif i.split('_')[4]=='1':\n",
    "            shutil.copy(src=dirpath+'/'+i, dst='prepared_data/open_eyes')"
   ]
  },
  {
   "cell_type": "code",
   "execution_count": null,
   "id": "b3726153-20ac-4746-923d-12b8ed82c698",
   "metadata": {},
   "outputs": [],
   "source": []
  },
  {
   "cell_type": "code",
   "execution_count": null,
   "id": "9e736891-79f9-4b94-85c8-71c1d81431d8",
   "metadata": {},
   "outputs": [],
   "source": []
  }
 ],
 "metadata": {
  "kernelspec": {
   "display_name": "Python 3 (ipykernel)",
   "language": "python",
   "name": "python3"
  },
  "language_info": {
   "codemirror_mode": {
    "name": "ipython",
    "version": 3
   },
   "file_extension": ".py",
   "mimetype": "text/x-python",
   "name": "python",
   "nbconvert_exporter": "python",
   "pygments_lexer": "ipython3",
   "version": "3.10.10"
  }
 },
 "nbformat": 4,
 "nbformat_minor": 5
}
